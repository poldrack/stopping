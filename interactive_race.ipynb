{
 "cells": [
  {
   "cell_type": "markdown",
   "metadata": {},
   "source": [
    "## Interactive race model for stop signal task\n",
    "\n",
    "based on Gordon Logan's interactiverace.m"
   ]
  },
  {
   "cell_type": "code",
   "execution_count": 2,
   "metadata": {},
   "outputs": [],
   "source": [
    "import numpy\n",
    "import matplotlib.pyplot as plt\n",
    "\n",
    "%matplotlib inline\n"
   ]
  },
  {
   "cell_type": "code",
   "execution_count": 7,
   "metadata": {},
   "outputs": [
    {
     "name": "stdout",
     "output_type": "stream",
     "text": [
      "[163.         234.62992126 295.57766143 331.51399776 343.31472081\n",
      " 348.623     ]\n",
      "[0.01  0.127 0.573 0.893 0.985 1.   ]\n"
     ]
    }
   ],
   "source": [
    "# original matlab code\n",
    "\n",
    "#function [meanrtgo,presp] = interactiverace\n",
    "\n",
    "#rng('shuffle');\n",
    "params={'mugo':.2,\n",
    "        'mustop':.5,\n",
    "        'threshold':60,\n",
    "        'nondecisiongo':50,\n",
    "        'nondecisionstop':50,\n",
    "        'ssds':[100,200,300,400,500,3000],\n",
    "        'nreps':1000,\n",
    "        'maxtime':1000}\n",
    "\n",
    "def interactiverace(params):\n",
    "    \n",
    "    meanrtgo = numpy.zeros(len(params['ssds']))\n",
    "    presp = numpy.zeros(len(params['ssds']));\n",
    " \n",
    "    for irep in range(params['nreps']):\n",
    "        for j,ssd in enumerate(params['ssds']):\n",
    "            stopsignaldelay = ssd\n",
    "            goaccumulator = 0\n",
    "            stopaccumulator = 0\n",
    "            rtgo = 0\n",
    "            itime = 0\n",
    "            while itime < params['maxtime'] and rtgo == 0: # single trial\n",
    "                itime = itime + 1\n",
    "                if itime < stopsignaldelay + params['nondecisionstop']:\n",
    "                    inhibition = 0\n",
    "                else:\n",
    "                    inhibition = 1\n",
    "                    stopaccumulator = stopaccumulator + params['mustop'] + numpy.random.normal()\n",
    "                if itime >= params['nondecisiongo']:\n",
    "                    goaccumulator = goaccumulator + params['mugo'] - inhibition*stopaccumulator + numpy.random.normal()\n",
    "\n",
    "                if goaccumulator > params['threshold']:\n",
    "                    if rtgo == 0:\n",
    "                        rtgo = itime;\n",
    "            meanrtgo[j] += rtgo;\n",
    "            if rtgo > 0:\n",
    "                presp[j] += 1;\n",
    "\n",
    "    for ssd in range(len(params['ssds'])):\n",
    "        if presp[ssd] > 0:\n",
    "            meanrtgo[ssd] = meanrtgo[ssd]/presp[ssd];\n",
    "        presp[ssd] = presp[ssd]/params['nreps'];\n",
    "    return(meanrtgo,presp)\n",
    "\n",
    "meanrtgo,presp=interactiverace(params)\n",
    "print(meanrtgo)\n",
    "print(presp)"
   ]
  },
  {
   "cell_type": "code",
   "execution_count": 18,
   "metadata": {},
   "outputs": [
    {
     "data": {
      "text/plain": [
       "[100, 500, 0, 1]"
      ]
     },
     "execution_count": 18,
     "metadata": {},
     "output_type": "execute_result"
    },
    {
     "data": {
      "image/png": "[encoded data removed]",
      "text/plain": [
       "<Figure size 720x360 with 2 Axes>"
      ]
     },
     "metadata": {
      "needs_background": "light"
     },
     "output_type": "display_data"
    }
   ],
   "source": [
    "plt.figure(figsize=(10,5))\n",
    "plt.subplot(1,2,1)\n",
    "plt.plot(params['ssds'][:5],meanrtgo[:5] - meanrtgo[5])\n",
    "plt.plot([params['ssds'][0],params['ssds'][4]],[0,0],'k:')\n",
    "plt.xlabel('Stop signal delay')\n",
    "plt.ylabel('Violation (Stop Failure RT - No-Stop RT)')\n",
    "plt.subplot(1,2,2)\n",
    "plt.plot(params['ssds'][:4],presp[:4])\n",
    "plt.xlabel('Stop signal delay')\n",
    "plt.ylabel('Probability of responding')\n",
    "plt.axis([params['ssds'][0],params['ssds'][4],0,1])\n"
   ]
  },
  {
   "cell_type": "code",
   "execution_count": 15,
   "metadata": {},
   "outputs": [
    {
     "data": {
      "text/plain": [
       "array([-185.623     , -113.99307874,  -53.04533857,  -17.10900224,\n",
       "         -5.30827919])"
      ]
     },
     "execution_count": 15,
     "metadata": {},
     "output_type": "execute_result"
    }
   ],
   "source": []
  },
  {
   "cell_type": "code",
   "execution_count": null,
   "metadata": {},
   "outputs": [],
   "source": []
  }
 ],
 "metadata": {
  "kernelspec": {
   "display_name": "Python 3",
   "language": "python",
   "name": "python3"
  },
  "language_info": {
   "codemirror_mode": {
    "name": "ipython",
    "version": 3
   },
   "file_extension": ".py",
   "mimetype": "text/x-python",
   "name": "python",
   "nbconvert_exporter": "python",
   "pygments_lexer": "ipython3",
   "version": "3.6.6"
  }
 },
 "nbformat": 4,
 "nbformat_minor": 2
}
