{
 "cells": [
  {
   "cell_type": "markdown",
   "metadata": {},
   "source": [
    "## Interactive race model for stop signal task\n",
    "\n",
    "based on Gordon Logan's interactiverace.m"
   ]
  },
  {
   "cell_type": "code",
   "execution_count": 13,
   "metadata": {},
   "outputs": [],
   "source": [
    "import numpy\n",
    "import matplotlib.pyplot as plt\n",
    "\n",
    "%matplotlib inline\n"
   ]
  },
  {
   "cell_type": "code",
   "execution_count": 32,
   "metadata": {},
   "outputs": [
    {
     "name": "stdout",
     "output_type": "stream",
     "text": [
      "[229.59183673 288.98404255 329.09059233 341.04119464 352.296     ]\n",
      "[0.098 0.564 0.861 0.971 1.   ]\n"
     ]
    }
   ],
   "source": [
    "# original matlab code\n",
    "\n",
    "#function [meanrtgo,presp] = interactiverace\n",
    "\n",
    "#rng('shuffle');\n",
    "params={'mugo':.2,\n",
    "        'mustop':.8,\n",
    "        'threshold':60,\n",
    "        'nondecisiongo':50,\n",
    "        'nondecisionstop':50,\n",
    "        'ssds':[200,300,400,500,3000],\n",
    "        'nreps':1000,\n",
    "        'maxtime':1000}\n",
    "\n",
    "def interactiverace(params):\n",
    "    \n",
    "    meanrtgo = numpy.zeros(len(params['ssds']))\n",
    "    presp = numpy.zeros(len(params['ssds']));\n",
    " \n",
    "    for irep in range(params['nreps']):\n",
    "        for j,ssd in enumerate(params['ssds']):\n",
    "            stopsignaldelay = ssd\n",
    "            goaccumulator = 0\n",
    "            stopaccumulator = 0\n",
    "            rtgo = 0\n",
    "            itime = 0\n",
    "            while itime < params['maxtime'] and rtgo == 0: # single trial\n",
    "                itime = itime + 1\n",
    "                if itime < stopsignaldelay + params['nondecisionstop']:\n",
    "                    inhibition = 0\n",
    "                else:\n",
    "                    inhibition = 1\n",
    "                    stopaccumulator = stopaccumulator + params['mustop'] + numpy.random.normal()\n",
    "                if itime >= params['nondecisiongo']:\n",
    "                    goaccumulator = goaccumulator + params['mugo'] - inhibition*stopaccumulator + numpy.random.normal()\n",
    "\n",
    "                if goaccumulator > params['threshold']:\n",
    "                    if rtgo == 0:\n",
    "                        rtgo = itime;\n",
    "            meanrtgo[j] += rtgo;\n",
    "            if rtgo > 0:\n",
    "                presp[j] += 1;\n",
    "\n",
    "    for ssd in range(len(params['ssds'])):\n",
    "        if presp[ssd] > 0:\n",
    "            meanrtgo[ssd] = meanrtgo[ssd]/presp[ssd];\n",
    "        presp[ssd] = presp[ssd]/nreps;\n",
    "    return(meanrtgo,presp)\n",
    "\n",
    "meanrtgo,presp=interactiverace(params)\n",
    "print(meanrtgo)\n",
    "print(presp)"
   ]
  },
  {
   "cell_type": "code",
   "execution_count": 31,
   "metadata": {},
   "outputs": [
    {
     "data": {
      "text/plain": [
       "Text(0,0.5,'Probability of responding')"
      ]
     },
     "execution_count": 31,
     "metadata": {},
     "output_type": "execute_result"
    },
    {
     "data": {
      "image/png": "[encoded data removed]",
      "text/plain": [
       "<Figure size 720x360 with 2 Axes>"
      ]
     },
     "metadata": {},
     "output_type": "display_data"
    }
   ],
   "source": [
    "plt.figure(figsize=(10,5))\n",
    "plt.subplot(1,2,1)\n",
    "plt.plot(ssds,meanrtgo)\n",
    "plt.xlabel('Stop signal delay')\n",
    "plt.ylabel('Mean go RT')\n",
    "plt.subplot(1,2,2)\n",
    "plt.plot(ssds,presp)\n",
    "plt.xlabel('Stop signal delay')\n",
    "plt.ylabel('Probability of responding')\n",
    "\n"
   ]
  },
  {
   "cell_type": "code",
   "execution_count": 26,
   "metadata": {},
   "outputs": [
    {
     "data": {
      "text/plain": [
       "4"
      ]
     },
     "execution_count": 26,
     "metadata": {},
     "output_type": "execute_result"
    }
   ],
   "source": [
    "presp"
   ]
  },
  {
   "cell_type": "code",
   "execution_count": null,
   "metadata": {},
   "outputs": [],
   "source": []
  }
 ],
 "metadata": {
  "kernelspec": {
   "display_name": "Python 3",
   "language": "python",
   "name": "python3"
  },
  "language_info": {
   "codemirror_mode": {
    "name": "ipython",
    "version": 3
   },
   "file_extension": ".py",
   "mimetype": "text/x-python",
   "name": "python",
   "nbconvert_exporter": "python",
   "pygments_lexer": "ipython3",
   "version": "3.6.5"
  }
 },
 "nbformat": 4,
 "nbformat_minor": 2
}
